{
  "nbformat": 4,
  "nbformat_minor": 0,
  "metadata": {
    "colab": {
      "name": "GRIPTASK1.ipynb",
      "provenance": [],
      "collapsed_sections": [],
      "authorship_tag": "ABX9TyMdOulYtc2JrLUW7YJ6kz+U",
      "include_colab_link": true
    },
    "kernelspec": {
      "name": "python3",
      "display_name": "Python 3"
    },
    "language_info": {
      "name": "python"
    }
  },
  "cells": [
    {
      "cell_type": "markdown",
      "metadata": {
        "id": "view-in-github",
        "colab_type": "text"
      },
      "source": [
        "<a href=\"https://colab.research.google.com/github/ARSHAAJITH/GRIP-TASK/blob/main/GRIPTASK1.ipynb\" target=\"_parent\"><img src=\"https://colab.research.google.com/assets/colab-badge.svg\" alt=\"Open In Colab\"/></a>"
      ]
    },
    {
      "cell_type": "markdown",
      "metadata": {
        "id": "5B9LPfAxav8e"
      },
      "source": [
        "# **GRADUATE ROTATIONAL INTERNSHIP PROGRAM @SPARK FOUNDATION**\n",
        "Author - ARSHA A S\n",
        "\n",
        "TASK 1 - PREDICTION USING SUPERVISED MACHINE LEARNING\n",
        "\n",
        "**Predict the percentage of students based on the number of study hours**"
      ]
    },
    {
      "cell_type": "markdown",
      "metadata": {
        "id": "if4Oo-7gqYRB"
      },
      "source": [
        "\n",
        "\n",
        "**STEP 1 Importing required libraries**"
      ]
    },
    {
      "cell_type": "code",
      "metadata": {
        "id": "Ib6YhdtDaavU"
      },
      "source": [
        "import pandas as pd\n",
        "import numpy as np\n",
        "import matplotlib.pyplot as plt\n",
        "%matplotlib inline"
      ],
      "execution_count": 2,
      "outputs": []
    },
    {
      "cell_type": "code",
      "metadata": {
        "colab": {
          "base_uri": "https://localhost:8080/",
          "height": 357
        },
        "id": "RXblRaeKcgrv",
        "outputId": "2f83aedb-3c18-4d55-cfd0-dc6f0a5576aa"
      },
      "source": [
        "#reading and displaying data\n",
        "url='http://bit.ly/w-data'\n",
        "s_data = pd.read_csv(url)\n",
        "s_data.head(10)"
      ],
      "execution_count": 3,
      "outputs": [
        {
          "output_type": "execute_result",
          "data": {
            "text/html": [
              "<div>\n",
              "<style scoped>\n",
              "    .dataframe tbody tr th:only-of-type {\n",
              "        vertical-align: middle;\n",
              "    }\n",
              "\n",
              "    .dataframe tbody tr th {\n",
              "        vertical-align: top;\n",
              "    }\n",
              "\n",
              "    .dataframe thead th {\n",
              "        text-align: right;\n",
              "    }\n",
              "</style>\n",
              "<table border=\"1\" class=\"dataframe\">\n",
              "  <thead>\n",
              "    <tr style=\"text-align: right;\">\n",
              "      <th></th>\n",
              "      <th>Hours</th>\n",
              "      <th>Scores</th>\n",
              "    </tr>\n",
              "  </thead>\n",
              "  <tbody>\n",
              "    <tr>\n",
              "      <th>0</th>\n",
              "      <td>2.5</td>\n",
              "      <td>21</td>\n",
              "    </tr>\n",
              "    <tr>\n",
              "      <th>1</th>\n",
              "      <td>5.1</td>\n",
              "      <td>47</td>\n",
              "    </tr>\n",
              "    <tr>\n",
              "      <th>2</th>\n",
              "      <td>3.2</td>\n",
              "      <td>27</td>\n",
              "    </tr>\n",
              "    <tr>\n",
              "      <th>3</th>\n",
              "      <td>8.5</td>\n",
              "      <td>75</td>\n",
              "    </tr>\n",
              "    <tr>\n",
              "      <th>4</th>\n",
              "      <td>3.5</td>\n",
              "      <td>30</td>\n",
              "    </tr>\n",
              "    <tr>\n",
              "      <th>5</th>\n",
              "      <td>1.5</td>\n",
              "      <td>20</td>\n",
              "    </tr>\n",
              "    <tr>\n",
              "      <th>6</th>\n",
              "      <td>9.2</td>\n",
              "      <td>88</td>\n",
              "    </tr>\n",
              "    <tr>\n",
              "      <th>7</th>\n",
              "      <td>5.5</td>\n",
              "      <td>60</td>\n",
              "    </tr>\n",
              "    <tr>\n",
              "      <th>8</th>\n",
              "      <td>8.3</td>\n",
              "      <td>81</td>\n",
              "    </tr>\n",
              "    <tr>\n",
              "      <th>9</th>\n",
              "      <td>2.7</td>\n",
              "      <td>25</td>\n",
              "    </tr>\n",
              "  </tbody>\n",
              "</table>\n",
              "</div>"
            ],
            "text/plain": [
              "   Hours  Scores\n",
              "0    2.5      21\n",
              "1    5.1      47\n",
              "2    3.2      27\n",
              "3    8.5      75\n",
              "4    3.5      30\n",
              "5    1.5      20\n",
              "6    9.2      88\n",
              "7    5.5      60\n",
              "8    8.3      81\n",
              "9    2.7      25"
            ]
          },
          "metadata": {},
          "execution_count": 3
        }
      ]
    },
    {
      "cell_type": "markdown",
      "metadata": {
        "id": "BNAhQG-ccsfS"
      },
      "source": [
        "**STEP 2 : Visualizing the Data**"
      ]
    },
    {
      "cell_type": "code",
      "metadata": {
        "colab": {
          "base_uri": "https://localhost:8080/",
          "height": 296
        },
        "id": "nOMvCU74dJPz",
        "outputId": "615d74cf-60f3-4740-e631-3fb7bab6c7b2"
      },
      "source": [
        "s_data.plot(x='Hours', y='Scores',style ='o' )\n",
        "plt.title('Hours_Study v/s Percentage_Score')\n",
        "plt.xlabel('Hours_Study')\n",
        "plt.ylabel('Percentage_Score')\n",
        "plt.show()"
      ],
      "execution_count": 4,
      "outputs": [
        {
          "output_type": "display_data",
          "data": {
            "image/png": "[encoded data removed]",
            "text/plain": [
              "<Figure size 432x288 with 1 Axes>"
            ]
          },
          "metadata": {
            "needs_background": "light"
          }
        }
      ]
    },
    {
      "cell_type": "markdown",
      "metadata": {
        "id": "qqoQv86qeNHU"
      },
      "source": [
        "**STEP 3 : Data Preparation**"
      ]
    },
    {
      "cell_type": "code",
      "metadata": {
        "id": "_htJiRi3eR7g"
      },
      "source": [
        "X = s_data.iloc[:, :-1].values\n",
        "y = s_data.iloc[:, 1].values"
      ],
      "execution_count": 5,
      "outputs": []
    },
    {
      "cell_type": "code",
      "metadata": {
        "colab": {
          "base_uri": "https://localhost:8080/"
        },
        "id": "R0MTnZuZeYYT",
        "outputId": "ff1f31d4-95bf-4ef1-9222-e1dae66dc993"
      },
      "source": [
        "X"
      ],
      "execution_count": 7,
      "outputs": [
        {
          "output_type": "execute_result",
          "data": {
            "text/plain": [
              "array([[2.5],\n",
              "       [5.1],\n",
              "       [3.2],\n",
              "       [8.5],\n",
              "       [3.5],\n",
              "       [1.5],\n",
              "       [9.2],\n",
              "       [5.5],\n",
              "       [8.3],\n",
              "       [2.7],\n",
              "       [7.7],\n",
              "       [5.9],\n",
              "       [4.5],\n",
              "       [3.3],\n",
              "       [1.1],\n",
              "       [8.9],\n",
              "       [2.5],\n",
              "       [1.9],\n",
              "       [6.1],\n",
              "       [7.4],\n",
              "       [2.7],\n",
              "       [4.8],\n",
              "       [3.8],\n",
              "       [6.9],\n",
              "       [7.8]])"
            ]
          },
          "metadata": {},
          "execution_count": 7
        }
      ]
    },
    {
      "cell_type": "code",
      "metadata": {
        "colab": {
          "base_uri": "https://localhost:8080/"
        },
        "id": "yEEPPFgCej5K",
        "outputId": "e9534e6c-a2c5-4338-bb56-5a99925ae566"
      },
      "source": [
        "y"
      ],
      "execution_count": 8,
      "outputs": [
        {
          "output_type": "execute_result",
          "data": {
            "text/plain": [
              "array([21, 47, 27, 75, 30, 20, 88, 60, 81, 25, 85, 62, 41, 42, 17, 95, 30,\n",
              "       24, 67, 69, 30, 54, 35, 76, 86])"
            ]
          },
          "metadata": {},
          "execution_count": 8
        }
      ]
    },
    {
      "cell_type": "code",
      "metadata": {
        "id": "V1drH9sEeqrA"
      },
      "source": [
        "from sklearn.model_selection import train_test_split\n",
        "X_train,X_test,y_train,y_test = train_test_split(X,y,test_size = 0.2,random_state =0)"
      ],
      "execution_count": 9,
      "outputs": []
    },
    {
      "cell_type": "markdown",
      "metadata": {
        "id": "4bs-KP4Iezq-"
      },
      "source": [
        "**STEP 4 : Training algorithm and Plotting the regression line**"
      ]
    },
    {
      "cell_type": "code",
      "metadata": {
        "id": "KWYbXMu_e8vP"
      },
      "source": [
        "from sklearn.linear_model import LinearRegression"
      ],
      "execution_count": 10,
      "outputs": []
    },
    {
      "cell_type": "code",
      "metadata": {
        "colab": {
          "base_uri": "https://localhost:8080/"
        },
        "id": "3LN1jNYmfLEK",
        "outputId": "acd3a0d1-8b3c-46ff-c37e-2a4a329dd202"
      },
      "source": [
        "Regressor1 = LinearRegression()\n",
        "Regressor1.fit(X,y)\n",
        "print(\"Training model\")"
      ],
      "execution_count": 11,
      "outputs": [
        {
          "output_type": "stream",
          "name": "stdout",
          "text": [
            "Training model\n"
          ]
        }
      ]
    },
    {
      "cell_type": "code",
      "metadata": {
        "colab": {
          "base_uri": "https://localhost:8080/",
          "height": 265
        },
        "id": "bPn09x1ifRPG",
        "outputId": "73940795-eba4-4021-f66f-44593ac0f981"
      },
      "source": [
        "#plotting the regression line\n",
        "line = Regressor1.coef_*X+Regressor1.intercept_\n",
        "#plotting for test\n",
        "plt.scatter(X,y, color=\"green\")\n",
        "plt.plot(X,line)\n",
        "plt.show()"
      ],
      "execution_count": 20,
      "outputs": [
        {
          "output_type": "display_data",
          "data": {
            "image/png": "[encoded data removed]",
            "text/plain": [
              "<Figure size 432x288 with 1 Axes>"
            ]
          },
          "metadata": {
            "needs_background": "light"
          }
        }
      ]
    },
    {
      "cell_type": "markdown",
      "metadata": {
        "id": "YiX8DXz4tmAM"
      },
      "source": [
        "**STEP 5 : Predictions**"
      ]
    },
    {
      "cell_type": "code",
      "metadata": {
        "colab": {
          "base_uri": "https://localhost:8080/"
        },
        "id": "2h6_7li2faZ8",
        "outputId": "dda13755-01af-4290-beb6-49e1bed5aaa9"
      },
      "source": [
        "print(X_test) #Testing data\n",
        "y_pred = Regressor1.predict(X_test)"
      ],
      "execution_count": 13,
      "outputs": [
        {
          "output_type": "stream",
          "name": "stdout",
          "text": [
            "[[1.5]\n",
            " [3.2]\n",
            " [7.4]\n",
            " [2.5]\n",
            " [5.9]]\n"
          ]
        }
      ]
    },
    {
      "cell_type": "code",
      "metadata": {
        "colab": {
          "base_uri": "https://localhost:8080/",
          "height": 203
        },
        "id": "PjPTXJ5GffwO",
        "outputId": "760ac63f-b9c8-4249-ea97-dd9dc9d8ae82"
      },
      "source": [
        "#Comparing actual v/s predicted\n",
        "df = pd.DataFrame({'Actual' : y_test, 'Predicted' : y_pred})\n",
        "df"
      ],
      "execution_count": 14,
      "outputs": [
        {
          "output_type": "execute_result",
          "data": {
            "text/html": [
              "<div>\n",
              "<style scoped>\n",
              "    .dataframe tbody tr th:only-of-type {\n",
              "        vertical-align: middle;\n",
              "    }\n",
              "\n",
              "    .dataframe tbody tr th {\n",
              "        vertical-align: top;\n",
              "    }\n",
              "\n",
              "    .dataframe thead th {\n",
              "        text-align: right;\n",
              "    }\n",
              "</style>\n",
              "<table border=\"1\" class=\"dataframe\">\n",
              "  <thead>\n",
              "    <tr style=\"text-align: right;\">\n",
              "      <th></th>\n",
              "      <th>Actual</th>\n",
              "      <th>Predicted</th>\n",
              "    </tr>\n",
              "  </thead>\n",
              "  <tbody>\n",
              "    <tr>\n",
              "      <th>0</th>\n",
              "      <td>20</td>\n",
              "      <td>17.147378</td>\n",
              "    </tr>\n",
              "    <tr>\n",
              "      <th>1</th>\n",
              "      <td>27</td>\n",
              "      <td>33.766244</td>\n",
              "    </tr>\n",
              "    <tr>\n",
              "      <th>2</th>\n",
              "      <td>69</td>\n",
              "      <td>74.824618</td>\n",
              "    </tr>\n",
              "    <tr>\n",
              "      <th>3</th>\n",
              "      <td>30</td>\n",
              "      <td>26.923182</td>\n",
              "    </tr>\n",
              "    <tr>\n",
              "      <th>4</th>\n",
              "      <td>62</td>\n",
              "      <td>60.160913</td>\n",
              "    </tr>\n",
              "  </tbody>\n",
              "</table>\n",
              "</div>"
            ],
            "text/plain": [
              "   Actual  Predicted\n",
              "0      20  17.147378\n",
              "1      27  33.766244\n",
              "2      69  74.824618\n",
              "3      30  26.923182\n",
              "4      62  60.160913"
            ]
          },
          "metadata": {},
          "execution_count": 14
        }
      ]
    },
    {
      "cell_type": "code",
      "metadata": {
        "colab": {
          "base_uri": "https://localhost:8080/"
        },
        "id": "RxF-5rN_fpqu",
        "outputId": "48734d9c-9b05-4788-bc36-65b05b156652"
      },
      "source": [
        "print(\"Training score\", Regressor1.score(X_train,y_train))\n",
        "print(\"Testing score\", Regressor1.score(X_test,y_test))"
      ],
      "execution_count": 15,
      "outputs": [
        {
          "output_type": "stream",
          "name": "stdout",
          "text": [
            "Training score 0.9512837351709387\n",
            "Testing score 0.9491748734859172\n"
          ]
        }
      ]
    },
    {
      "cell_type": "code",
      "metadata": {
        "colab": {
          "base_uri": "https://localhost:8080/",
          "height": 370
        },
        "id": "SxvbvLxvfvGJ",
        "outputId": "1f350d4c-3829-433b-d49b-b1a633e1d82c"
      },
      "source": [
        "#plotting the bar chart to depict the actual and predicted value\n",
        "df.plot(kind = 'bar',figsize = (6,6))\n",
        "plt.show()"
      ],
      "execution_count": 26,
      "outputs": [
        {
          "output_type": "display_data",
          "data": {
            "image/png": "[encoded data removed]",
            "text/plain": [
              "<Figure size 432x432 with 1 Axes>"
            ]
          },
          "metadata": {
            "needs_background": "light"
          }
        }
      ]
    },
    {
      "cell_type": "code",
      "metadata": {
        "colab": {
          "base_uri": "https://localhost:8080/"
        },
        "id": "KMaX1GUXfy-B",
        "outputId": "cfaa2ad3-2af6-42f2-8e63-988ea2490b84"
      },
      "source": [
        "#prediction for 9.25hr \n",
        "hours = 9.25\n",
        "test = np.array([hours])\n",
        "test = test.reshape(-1,1)\n",
        "own_pred = Regressor1.predict(test)\n",
        "print(\"No of hours ={}\".format(hours))\n",
        "print(\"Predicted Score ={}\".format(own_pred[0]))"
      ],
      "execution_count": 17,
      "outputs": [
        {
          "output_type": "stream",
          "name": "stdout",
          "text": [
            "No of hours =9.25\n",
            "Predicted Score =92.9098547701573\n"
          ]
        }
      ]
    },
    {
      "cell_type": "markdown",
      "metadata": {
        "id": "cWq7vLfNgBdL"
      },
      "source": [
        "**STEP 6 : Evaluating Model**"
      ]
    },
    {
      "cell_type": "code",
      "metadata": {
        "colab": {
          "base_uri": "https://localhost:8080/"
        },
        "id": "-PtjhIndgGF3",
        "outputId": "95013179-74e3-4e87-f430-71bbed08af6a"
      },
      "source": [
        "import numpy as np\n",
        "from sklearn import metrics\n",
        "print('Mean Absolute Error:',metrics.mean_absolute_error(y_test,y_pred))\n",
        "print('Mean Squared Error:',metrics.mean_squared_error(y_test,y_pred))\n",
        "print('Root Mean Squared Error:',np.sqrt(metrics.mean_squared_error(y_test,y_pred)))\n",
        "print('Explained Variance Score:',metrics.explained_variance_score(y_test,y_pred))"
      ],
      "execution_count": 18,
      "outputs": [
        {
          "output_type": "stream",
          "name": "stdout",
          "text": [
            "Mean Absolute Error: 4.071877793635605\n",
            "Mean Squared Error: 20.138948129940175\n",
            "Root Mean Squared Error: 4.487643939746131\n",
            "Explained Variance Score: 0.9515224335188082\n"
          ]
        }
      ]
    },
    {
      "cell_type": "markdown",
      "metadata": {
        "id": "ToYRvbiagQIQ"
      },
      "source": [
        "**THANK YOU !**"
      ]
    }
  ]
}